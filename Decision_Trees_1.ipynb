{
  "cells": [
    {
      "cell_type": "code",
      "execution_count": 1,
      "metadata": {
        "id": "y3DiadTG-ru-"
      },
      "outputs": [],
      "source": [
        "import pandas as pd\n",
        "import numpy as np\n",
        "from matplotlib import pyplot as plt\n",
        "import seaborn \n",
        "import plotly.express as px"
      ]
    },
    {
      "cell_type": "markdown",
      "metadata": {
        "id": "-QpBS-Nd-fAO"
      },
      "source": [
        "# Домашняя работа: деревья решений"
      ]
    },
    {
      "cell_type": "markdown",
      "metadata": {
        "id": "1ZVCYFgU-5Tw"
      },
      "source": [
        "В этой домашней работе вам предстоит научиться предсказывать цены товаров из маркетплейса Azamon.\n",
        "\n",
        "Требования к домашней работе:\n",
        "- Во всех графиках должны быть подписи через title, legend, etc.\n",
        "- Во время обучения моделей проверяйте, что у вас не текут данные. Обычно это позитивно влияет на качество модели на тесте, но негативно влияет на оценку 🌚\n",
        "- Если вы сдаете работу в Google Colaboratory, убедитесь, что ваша тетрадка доступна по ссылке.\n",
        "- Использование мемов допускается, но необходимо соблюдать меру. Несодержательная работа, состоящая только из мемов, получает 0 баллов."
      ]
    },
    {
      "cell_type": "markdown",
      "metadata": {
        "id": "JyTAlXb8CbXk"
      },
      "source": [
        "# Загрузка и подготовка данных"
      ]
    },
    {
      "cell_type": "code",
      "source": [
        "from google.colab import drive\n",
        "drive.mount('/content/drive')"
      ],
      "metadata": {
        "id": "0KLLh4VaSB0X",
        "colab": {
          "base_uri": "https://localhost:8080/"
        },
        "outputId": "c0c4e187-3a99-494d-a0d5-889608f48360"
      },
      "execution_count": 2,
      "outputs": [
        {
          "output_type": "stream",
          "name": "stdout",
          "text": [
            "Drive already mounted at /content/drive; to attempt to forcibly remount, call drive.mount(\"/content/drive\", force_remount=True).\n"
          ]
        }
      ]
    },
    {
      "cell_type": "code",
      "execution_count": 3,
      "metadata": {
        "id": "H-d1aLV6iypJ"
      },
      "outputs": [],
      "source": [
        "df = pd.read_csv('/content/drive/MyDrive/Colab Notebooks/amazon_co-ecommerce_sample.csv').drop(columns=[\n",
        "    'product_name',\n",
        "    'index',\n",
        "    'uniq_id',\n",
        "    'customers_who_bought_this_item_also_bought',\n",
        "    'items_customers_buy_after_viewing_this_item',\n",
        "    'sellers',\n",
        "    'description', # text\n",
        "    'product_information', # text\n",
        "    'product_description', # text\n",
        "    'customer_questions_and_answers', # text\n",
        "    'customer_reviews', # text\n",
        "])"
      ]
    },
    {
      "cell_type": "code",
      "source": [
        "df.columns"
      ],
      "metadata": {
        "colab": {
          "base_uri": "https://localhost:8080/"
        },
        "id": "Q1yRU0fNjKbn",
        "outputId": "aeaa7783-3ff0-42ef-86af-4d4dcbba024a"
      },
      "execution_count": 4,
      "outputs": [
        {
          "output_type": "execute_result",
          "data": {
            "text/plain": [
              "Index(['manufacturer', 'price', 'number_available_in_stock',\n",
              "       'number_of_reviews', 'number_of_answered_questions',\n",
              "       'average_review_rating', 'amazon_category_and_sub_category'],\n",
              "      dtype='object')"
            ]
          },
          "metadata": {},
          "execution_count": 4
        }
      ]
    },
    {
      "cell_type": "code",
      "source": [
        "df.sample()"
      ],
      "metadata": {
        "colab": {
          "base_uri": "https://localhost:8080/",
          "height": 81
        },
        "id": "RsIQliyLmNtf",
        "outputId": "94bd2b5a-96b8-4eea-bbe8-a9f2094a01a7"
      },
      "execution_count": 5,
      "outputs": [
        {
          "output_type": "execute_result",
          "data": {
            "text/plain": [
              "     manufacturer  price number_available_in_stock number_of_reviews  \\\n",
              "1662        Intex  £7.48                    30 new                78   \n",
              "\n",
              "      number_of_answered_questions average_review_rating  \\\n",
              "1662                           7.0    4.3 out of 5 stars   \n",
              "\n",
              "                       amazon_category_and_sub_category  \n",
              "1662  Sports Toys & Outdoor > Beach Toys > Paddling ...  "
            ],
            "text/html": [
              "\n",
              "  <div id=\"df-ae1f01e0-cc18-4e19-aa36-8334ef775654\">\n",
              "    <div class=\"colab-df-container\">\n",
              "      <div>\n",
              "<style scoped>\n",
              "    .dataframe tbody tr th:only-of-type {\n",
              "        vertical-align: middle;\n",
              "    }\n",
              "\n",
              "    .dataframe tbody tr th {\n",
              "        vertical-align: top;\n",
              "    }\n",
              "\n",
              "    .dataframe thead th {\n",
              "        text-align: right;\n",
              "    }\n",
              "</style>\n",
              "<table border=\"1\" class=\"dataframe\">\n",
              "  <thead>\n",
              "    <tr style=\"text-align: right;\">\n",
              "      <th></th>\n",
              "      <th>manufacturer</th>\n",
              "      <th>price</th>\n",
              "      <th>number_available_in_stock</th>\n",
              "      <th>number_of_reviews</th>\n",
              "      <th>number_of_answered_questions</th>\n",
              "      <th>average_review_rating</th>\n",
              "      <th>amazon_category_and_sub_category</th>\n",
              "    </tr>\n",
              "  </thead>\n",
              "  <tbody>\n",
              "    <tr>\n",
              "      <th>1662</th>\n",
              "      <td>Intex</td>\n",
              "      <td>£7.48</td>\n",
              "      <td>30 new</td>\n",
              "      <td>78</td>\n",
              "      <td>7.0</td>\n",
              "      <td>4.3 out of 5 stars</td>\n",
              "      <td>Sports Toys &amp; Outdoor &gt; Beach Toys &gt; Paddling ...</td>\n",
              "    </tr>\n",
              "  </tbody>\n",
              "</table>\n",
              "</div>\n",
              "      <button class=\"colab-df-convert\" onclick=\"convertToInteractive('df-ae1f01e0-cc18-4e19-aa36-8334ef775654')\"\n",
              "              title=\"Convert this dataframe to an interactive table.\"\n",
              "              style=\"display:none;\">\n",
              "        \n",
              "  <svg xmlns=\"http://www.w3.org/2000/svg\" height=\"24px\"viewBox=\"0 0 24 24\"\n",
              "       width=\"24px\">\n",
              "    <path d=\"M0 0h24v24H0V0z\" fill=\"none\"/>\n",
              "    <path d=\"M18.56 5.44l.94 2.06.94-2.06 2.06-.94-2.06-.94-.94-2.06-.94 2.06-2.06.94zm-11 1L8.5 8.5l.94-2.06 2.06-.94-2.06-.94L8.5 2.5l-.94 2.06-2.06.94zm10 10l.94 2.06.94-2.06 2.06-.94-2.06-.94-.94-2.06-.94 2.06-2.06.94z\"/><path d=\"M17.41 7.96l-1.37-1.37c-.4-.4-.92-.59-1.43-.59-.52 0-1.04.2-1.43.59L10.3 9.45l-7.72 7.72c-.78.78-.78 2.05 0 2.83L4 21.41c.39.39.9.59 1.41.59.51 0 1.02-.2 1.41-.59l7.78-7.78 2.81-2.81c.8-.78.8-2.07 0-2.86zM5.41 20L4 18.59l7.72-7.72 1.47 1.35L5.41 20z\"/>\n",
              "  </svg>\n",
              "      </button>\n",
              "      \n",
              "  <style>\n",
              "    .colab-df-container {\n",
              "      display:flex;\n",
              "      flex-wrap:wrap;\n",
              "      gap: 12px;\n",
              "    }\n",
              "\n",
              "    .colab-df-convert {\n",
              "      background-color: #E8F0FE;\n",
              "      border: none;\n",
              "      border-radius: 50%;\n",
              "      cursor: pointer;\n",
              "      display: none;\n",
              "      fill: #1967D2;\n",
              "      height: 32px;\n",
              "      padding: 0 0 0 0;\n",
              "      width: 32px;\n",
              "    }\n",
              "\n",
              "    .colab-df-convert:hover {\n",
              "      background-color: #E2EBFA;\n",
              "      box-shadow: 0px 1px 2px rgba(60, 64, 67, 0.3), 0px 1px 3px 1px rgba(60, 64, 67, 0.15);\n",
              "      fill: #174EA6;\n",
              "    }\n",
              "\n",
              "    [theme=dark] .colab-df-convert {\n",
              "      background-color: #3B4455;\n",
              "      fill: #D2E3FC;\n",
              "    }\n",
              "\n",
              "    [theme=dark] .colab-df-convert:hover {\n",
              "      background-color: #434B5C;\n",
              "      box-shadow: 0px 1px 3px 1px rgba(0, 0, 0, 0.15);\n",
              "      filter: drop-shadow(0px 1px 2px rgba(0, 0, 0, 0.3));\n",
              "      fill: #FFFFFF;\n",
              "    }\n",
              "  </style>\n",
              "\n",
              "      <script>\n",
              "        const buttonEl =\n",
              "          document.querySelector('#df-ae1f01e0-cc18-4e19-aa36-8334ef775654 button.colab-df-convert');\n",
              "        buttonEl.style.display =\n",
              "          google.colab.kernel.accessAllowed ? 'block' : 'none';\n",
              "\n",
              "        async function convertToInteractive(key) {\n",
              "          const element = document.querySelector('#df-ae1f01e0-cc18-4e19-aa36-8334ef775654');\n",
              "          const dataTable =\n",
              "            await google.colab.kernel.invokeFunction('convertToInteractive',\n",
              "                                                     [key], {});\n",
              "          if (!dataTable) return;\n",
              "\n",
              "          const docLinkHtml = 'Like what you see? Visit the ' +\n",
              "            '<a target=\"_blank\" href=https://colab.research.google.com/notebooks/data_table.ipynb>data table notebook</a>'\n",
              "            + ' to learn more about interactive tables.';\n",
              "          element.innerHTML = '';\n",
              "          dataTable['output_type'] = 'display_data';\n",
              "          await google.colab.output.renderOutput(dataTable, element);\n",
              "          const docLink = document.createElement('div');\n",
              "          docLink.innerHTML = docLinkHtml;\n",
              "          element.appendChild(docLink);\n",
              "        }\n",
              "      </script>\n",
              "    </div>\n",
              "  </div>\n",
              "  "
            ]
          },
          "metadata": {},
          "execution_count": 5
        }
      ]
    },
    {
      "cell_type": "code",
      "source": [
        "df.shape"
      ],
      "metadata": {
        "colab": {
          "base_uri": "https://localhost:8080/"
        },
        "id": "LM22irdfmr7f",
        "outputId": "d9f1ed55-0265-4370-8636-609ca359fb7d"
      },
      "execution_count": 6,
      "outputs": [
        {
          "output_type": "execute_result",
          "data": {
            "text/plain": [
              "(10000, 7)"
            ]
          },
          "metadata": {},
          "execution_count": 6
        }
      ]
    },
    {
      "cell_type": "markdown",
      "metadata": {
        "id": "O59k78A8C_yP"
      },
      "source": [
        "## Очистка данных (1 балл)\n",
        "\n",
        "Посмотрите на признаки. Есть ли в них пропуски? Какое соотношение между NaN'ами и общим количеством данных? Есть ли смысл выкидывать какие-либо данные из этого датасета?"
      ]
    },
    {
      "cell_type": "markdown",
      "source": [
        "Запишем в переменную NaNsAmount кол-во nan`ов в каждом столбце."
      ],
      "metadata": {
        "id": "E68DcIWtwAyP"
      }
    },
    {
      "cell_type": "code",
      "source": [
        "NaNsAmount = df.isnull().sum()\n",
        "NaNsAmount"
      ],
      "metadata": {
        "colab": {
          "base_uri": "https://localhost:8080/"
        },
        "id": "ggPytlZ4m04v",
        "outputId": "695e2785-5633-43c2-aea1-ffb84e6f611b"
      },
      "execution_count": 7,
      "outputs": [
        {
          "output_type": "execute_result",
          "data": {
            "text/plain": [
              "manufacturer                           7\n",
              "price                               1435\n",
              "number_available_in_stock           2500\n",
              "number_of_reviews                     18\n",
              "number_of_answered_questions         765\n",
              "average_review_rating                 18\n",
              "amazon_category_and_sub_category     690\n",
              "dtype: int64"
            ]
          },
          "metadata": {},
          "execution_count": 7
        }
      ]
    },
    {
      "cell_type": "markdown",
      "source": [
        "Определим их отношение к общему кол-ву данных."
      ],
      "metadata": {
        "id": "EX2Arf4OwT-r"
      }
    },
    {
      "cell_type": "code",
      "source": [
        "NaNsAmount / (df.size / df.columns.size)"
      ],
      "metadata": {
        "colab": {
          "base_uri": "https://localhost:8080/"
        },
        "id": "6d_OPHqQTCdZ",
        "outputId": "9003f535-093f-4cb7-890f-f2b8f5142df6"
      },
      "execution_count": 8,
      "outputs": [
        {
          "output_type": "execute_result",
          "data": {
            "text/plain": [
              "manufacturer                        0.0007\n",
              "price                               0.1435\n",
              "number_available_in_stock           0.2500\n",
              "number_of_reviews                   0.0018\n",
              "number_of_answered_questions        0.0765\n",
              "average_review_rating               0.0018\n",
              "amazon_category_and_sub_category    0.0690\n",
              "dtype: float64"
            ]
          },
          "metadata": {},
          "execution_count": 8
        }
      ]
    },
    {
      "cell_type": "code",
      "source": [
        "NaNsAmount.sum() / df.size"
      ],
      "metadata": {
        "colab": {
          "base_uri": "https://localhost:8080/"
        },
        "id": "wSTCJifgnHZe",
        "outputId": "9297f62f-cfd9-4a26-aae9-efa49d7aeb68"
      },
      "execution_count": 9,
      "outputs": [
        {
          "output_type": "execute_result",
          "data": {
            "text/plain": [
              "0.07761428571428572"
            ]
          },
          "metadata": {},
          "execution_count": 9
        }
      ]
    },
    {
      "cell_type": "markdown",
      "source": [
        "Особенно много nan`ов в столбце number_available_in_stock. Поэтому можно удалить данный столбец.\n",
        "Посмотрим, что у нас вышло в итоге."
      ],
      "metadata": {
        "id": "4jobOLgHwjDL"
      }
    },
    {
      "cell_type": "code",
      "source": [
        "df = df.drop(columns = ['number_available_in_stock'])\n",
        "df.sample()"
      ],
      "metadata": {
        "colab": {
          "base_uri": "https://localhost:8080/",
          "height": 81
        },
        "id": "hQ5a6lFon47A",
        "outputId": "92cba8f6-9410-4165-ce7c-e453da5b5429"
      },
      "execution_count": 10,
      "outputs": [
        {
          "output_type": "execute_result",
          "data": {
            "text/plain": [
              "    manufacturer price number_of_reviews  number_of_answered_questions  \\\n",
              "322      Harrods   NaN                 1                           1.0   \n",
              "\n",
              "    average_review_rating amazon_category_and_sub_category  \n",
              "322    5.0 out of 5 stars                              NaN  "
            ],
            "text/html": [
              "\n",
              "  <div id=\"df-b5da7996-f765-4eb8-8324-3a48af11b1f4\">\n",
              "    <div class=\"colab-df-container\">\n",
              "      <div>\n",
              "<style scoped>\n",
              "    .dataframe tbody tr th:only-of-type {\n",
              "        vertical-align: middle;\n",
              "    }\n",
              "\n",
              "    .dataframe tbody tr th {\n",
              "        vertical-align: top;\n",
              "    }\n",
              "\n",
              "    .dataframe thead th {\n",
              "        text-align: right;\n",
              "    }\n",
              "</style>\n",
              "<table border=\"1\" class=\"dataframe\">\n",
              "  <thead>\n",
              "    <tr style=\"text-align: right;\">\n",
              "      <th></th>\n",
              "      <th>manufacturer</th>\n",
              "      <th>price</th>\n",
              "      <th>number_of_reviews</th>\n",
              "      <th>number_of_answered_questions</th>\n",
              "      <th>average_review_rating</th>\n",
              "      <th>amazon_category_and_sub_category</th>\n",
              "    </tr>\n",
              "  </thead>\n",
              "  <tbody>\n",
              "    <tr>\n",
              "      <th>322</th>\n",
              "      <td>Harrods</td>\n",
              "      <td>NaN</td>\n",
              "      <td>1</td>\n",
              "      <td>1.0</td>\n",
              "      <td>5.0 out of 5 stars</td>\n",
              "      <td>NaN</td>\n",
              "    </tr>\n",
              "  </tbody>\n",
              "</table>\n",
              "</div>\n",
              "      <button class=\"colab-df-convert\" onclick=\"convertToInteractive('df-b5da7996-f765-4eb8-8324-3a48af11b1f4')\"\n",
              "              title=\"Convert this dataframe to an interactive table.\"\n",
              "              style=\"display:none;\">\n",
              "        \n",
              "  <svg xmlns=\"http://www.w3.org/2000/svg\" height=\"24px\"viewBox=\"0 0 24 24\"\n",
              "       width=\"24px\">\n",
              "    <path d=\"M0 0h24v24H0V0z\" fill=\"none\"/>\n",
              "    <path d=\"M18.56 5.44l.94 2.06.94-2.06 2.06-.94-2.06-.94-.94-2.06-.94 2.06-2.06.94zm-11 1L8.5 8.5l.94-2.06 2.06-.94-2.06-.94L8.5 2.5l-.94 2.06-2.06.94zm10 10l.94 2.06.94-2.06 2.06-.94-2.06-.94-.94-2.06-.94 2.06-2.06.94z\"/><path d=\"M17.41 7.96l-1.37-1.37c-.4-.4-.92-.59-1.43-.59-.52 0-1.04.2-1.43.59L10.3 9.45l-7.72 7.72c-.78.78-.78 2.05 0 2.83L4 21.41c.39.39.9.59 1.41.59.51 0 1.02-.2 1.41-.59l7.78-7.78 2.81-2.81c.8-.78.8-2.07 0-2.86zM5.41 20L4 18.59l7.72-7.72 1.47 1.35L5.41 20z\"/>\n",
              "  </svg>\n",
              "      </button>\n",
              "      \n",
              "  <style>\n",
              "    .colab-df-container {\n",
              "      display:flex;\n",
              "      flex-wrap:wrap;\n",
              "      gap: 12px;\n",
              "    }\n",
              "\n",
              "    .colab-df-convert {\n",
              "      background-color: #E8F0FE;\n",
              "      border: none;\n",
              "      border-radius: 50%;\n",
              "      cursor: pointer;\n",
              "      display: none;\n",
              "      fill: #1967D2;\n",
              "      height: 32px;\n",
              "      padding: 0 0 0 0;\n",
              "      width: 32px;\n",
              "    }\n",
              "\n",
              "    .colab-df-convert:hover {\n",
              "      background-color: #E2EBFA;\n",
              "      box-shadow: 0px 1px 2px rgba(60, 64, 67, 0.3), 0px 1px 3px 1px rgba(60, 64, 67, 0.15);\n",
              "      fill: #174EA6;\n",
              "    }\n",
              "\n",
              "    [theme=dark] .colab-df-convert {\n",
              "      background-color: #3B4455;\n",
              "      fill: #D2E3FC;\n",
              "    }\n",
              "\n",
              "    [theme=dark] .colab-df-convert:hover {\n",
              "      background-color: #434B5C;\n",
              "      box-shadow: 0px 1px 3px 1px rgba(0, 0, 0, 0.15);\n",
              "      filter: drop-shadow(0px 1px 2px rgba(0, 0, 0, 0.3));\n",
              "      fill: #FFFFFF;\n",
              "    }\n",
              "  </style>\n",
              "\n",
              "      <script>\n",
              "        const buttonEl =\n",
              "          document.querySelector('#df-b5da7996-f765-4eb8-8324-3a48af11b1f4 button.colab-df-convert');\n",
              "        buttonEl.style.display =\n",
              "          google.colab.kernel.accessAllowed ? 'block' : 'none';\n",
              "\n",
              "        async function convertToInteractive(key) {\n",
              "          const element = document.querySelector('#df-b5da7996-f765-4eb8-8324-3a48af11b1f4');\n",
              "          const dataTable =\n",
              "            await google.colab.kernel.invokeFunction('convertToInteractive',\n",
              "                                                     [key], {});\n",
              "          if (!dataTable) return;\n",
              "\n",
              "          const docLinkHtml = 'Like what you see? Visit the ' +\n",
              "            '<a target=\"_blank\" href=https://colab.research.google.com/notebooks/data_table.ipynb>data table notebook</a>'\n",
              "            + ' to learn more about interactive tables.';\n",
              "          element.innerHTML = '';\n",
              "          dataTable['output_type'] = 'display_data';\n",
              "          await google.colab.output.renderOutput(dataTable, element);\n",
              "          const docLink = document.createElement('div');\n",
              "          docLink.innerHTML = docLinkHtml;\n",
              "          element.appendChild(docLink);\n",
              "        }\n",
              "      </script>\n",
              "    </div>\n",
              "  </div>\n",
              "  "
            ]
          },
          "metadata": {},
          "execution_count": 10
        }
      ]
    },
    {
      "cell_type": "code",
      "source": [
        "df.shape"
      ],
      "metadata": {
        "colab": {
          "base_uri": "https://localhost:8080/"
        },
        "id": "ek4jEgqPpXzh",
        "outputId": "2dc5d763-b212-404e-be69-de9c7d124178"
      },
      "execution_count": 11,
      "outputs": [
        {
          "output_type": "execute_result",
          "data": {
            "text/plain": [
              "(10000, 6)"
            ]
          },
          "metadata": {},
          "execution_count": 11
        }
      ]
    },
    {
      "cell_type": "markdown",
      "metadata": {
        "id": "eH688KdZDdKY"
      },
      "source": [
        "## Подготовка данных (3 балла)\n",
        "\n",
        "Обработайте признаки. Выполните кодирование категориальных признаков, заполните пропуски в числовых признаках. Обратите внимание, что в датасете есть признак, который разбивается на несколько подпризнаков. Что это за признак? Закодируйте и его.\n",
        "\n",
        "Дополнительные вопросы (+ 1 балл):\n",
        "- Какие из признаков в этом датасете лучше кодировать через ordinal encoding?\n",
        "- Какие из признаков допустимо кодировать через one-hot?\n",
        "\n",
        "Прим.: суммарно за эту секцию можно получить до 4 баллов."
      ]
    },
    {
      "cell_type": "markdown",
      "source": [
        "Посмотрим на кол-во nan`ов и типы столбцов."
      ],
      "metadata": {
        "id": "oHOZh7L8w5iS"
      }
    },
    {
      "cell_type": "code",
      "source": [
        "df.info()"
      ],
      "metadata": {
        "colab": {
          "base_uri": "https://localhost:8080/"
        },
        "id": "XXDPQkzMpgew",
        "outputId": "03c44a62-7cdd-44ec-fb19-b9515b6876db"
      },
      "execution_count": 12,
      "outputs": [
        {
          "output_type": "stream",
          "name": "stdout",
          "text": [
            "<class 'pandas.core.frame.DataFrame'>\n",
            "RangeIndex: 10000 entries, 0 to 9999\n",
            "Data columns (total 6 columns):\n",
            " #   Column                            Non-Null Count  Dtype  \n",
            "---  ------                            --------------  -----  \n",
            " 0   manufacturer                      9993 non-null   object \n",
            " 1   price                             8565 non-null   object \n",
            " 2   number_of_reviews                 9982 non-null   object \n",
            " 3   number_of_answered_questions      9235 non-null   float64\n",
            " 4   average_review_rating             9982 non-null   object \n",
            " 5   amazon_category_and_sub_category  9310 non-null   object \n",
            "dtypes: float64(1), object(5)\n",
            "memory usage: 468.9+ KB\n"
          ]
        }
      ]
    },
    {
      "cell_type": "markdown",
      "source": [
        "Много данных хранятся вперемешку в виде строк и чисел с плавующей запятой, поэтому следует привести все к одному типу - float.\n",
        "Напишем простейшую функцию перевода. (т.к. тысячи отмечаются символом ',', следует заменить его в каждой строке)."
      ],
      "metadata": {
        "id": "j4TCnciHxE7U"
      }
    },
    {
      "cell_type": "code",
      "source": [
        "def strToFloat(UserStr):\n",
        "  UserStr = UserStr.replace(',', '')\n",
        "  return float(UserStr)"
      ],
      "metadata": {
        "id": "gA34sgDuUlE3"
      },
      "execution_count": 13,
      "outputs": []
    },
    {
      "cell_type": "markdown",
      "source": [
        "Есть некоторые сложности перевода цен в float: некоторые значения являются nan и некоторые значения являются диапозонами цен (299-600 например).\n",
        "Первая проблема решается наложение условия на тип данных. Вторая - при помощи определения кол-ва элементов массива после сплита."
      ],
      "metadata": {
        "id": "ElSF0Vl7xph8"
      }
    },
    {
      "cell_type": "code",
      "source": [
        "for i in range(0, len(df.price)):\n",
        "  if (isinstance(df.price[i], str)):\n",
        "    if (len(df.price[i].split('-')) == 1):\n",
        "      df.price[i] = strToFloat(df.price[i][1:])\n",
        "    else:\n",
        "      df.price[i] = (strToFloat(df.price[i].split('- ')[0][1:]) + strToFloat(df.price[i].split('- ')[1][1:]))/2\n",
        "  else:\n",
        "    df.price[i] = 0\n",
        "  "
      ],
      "metadata": {
        "id": "S3oplggwVMuf",
        "colab": {
          "base_uri": "https://localhost:8080/"
        },
        "outputId": "825aebc2-cd93-4c82-a416-375e4dea6b97"
      },
      "execution_count": 14,
      "outputs": [
        {
          "output_type": "stream",
          "name": "stderr",
          "text": [
            "<ipython-input-14-9d63823b4530>:4: SettingWithCopyWarning: \n",
            "A value is trying to be set on a copy of a slice from a DataFrame\n",
            "\n",
            "See the caveats in the documentation: https://pandas.pydata.org/pandas-docs/stable/user_guide/indexing.html#returning-a-view-versus-a-copy\n",
            "  df.price[i] = strToFloat(df.price[i][1:])\n",
            "<ipython-input-14-9d63823b4530>:8: SettingWithCopyWarning: \n",
            "A value is trying to be set on a copy of a slice from a DataFrame\n",
            "\n",
            "See the caveats in the documentation: https://pandas.pydata.org/pandas-docs/stable/user_guide/indexing.html#returning-a-view-versus-a-copy\n",
            "  df.price[i] = 0\n",
            "<ipython-input-14-9d63823b4530>:8: SettingWithCopyWarning: \n",
            "A value is trying to be set on a copy of a slice from a DataFrame\n",
            "\n",
            "See the caveats in the documentation: https://pandas.pydata.org/pandas-docs/stable/user_guide/indexing.html#returning-a-view-versus-a-copy\n",
            "  df.price[i] = 0\n",
            "<ipython-input-14-9d63823b4530>:8: SettingWithCopyWarning: \n",
            "A value is trying to be set on a copy of a slice from a DataFrame\n",
            "\n",
            "See the caveats in the documentation: https://pandas.pydata.org/pandas-docs/stable/user_guide/indexing.html#returning-a-view-versus-a-copy\n",
            "  df.price[i] = 0\n"
          ]
        }
      ]
    },
    {
      "cell_type": "markdown",
      "source": [
        "По такому же принципу заменим данные в столбце average_review_rating."
      ],
      "metadata": {
        "id": "Uy5MPa11ygQE"
      }
    },
    {
      "cell_type": "code",
      "source": [
        "for i in range(0, len(df.average_review_rating)):\n",
        "  if (isinstance(df.average_review_rating[i], str)):\n",
        "    df.average_review_rating[i] = strToFloat(df.average_review_rating[i].split()[0])\n",
        "  else:\n",
        "    df.average_review_rating[i] = 0"
      ],
      "metadata": {
        "id": "C6kCUaelfYdZ",
        "colab": {
          "base_uri": "https://localhost:8080/"
        },
        "outputId": "53d6b173-07c4-46c9-e6fb-8a6218d0bc37"
      },
      "execution_count": 15,
      "outputs": [
        {
          "output_type": "stream",
          "name": "stderr",
          "text": [
            "<ipython-input-15-457cba9d19ce>:3: SettingWithCopyWarning: \n",
            "A value is trying to be set on a copy of a slice from a DataFrame\n",
            "\n",
            "See the caveats in the documentation: https://pandas.pydata.org/pandas-docs/stable/user_guide/indexing.html#returning-a-view-versus-a-copy\n",
            "  df.average_review_rating[i] = strToFloat(df.average_review_rating[i].split()[0])\n",
            "<ipython-input-15-457cba9d19ce>:5: SettingWithCopyWarning: \n",
            "A value is trying to be set on a copy of a slice from a DataFrame\n",
            "\n",
            "See the caveats in the documentation: https://pandas.pydata.org/pandas-docs/stable/user_guide/indexing.html#returning-a-view-versus-a-copy\n",
            "  df.average_review_rating[i] = 0\n",
            "<ipython-input-15-457cba9d19ce>:3: SettingWithCopyWarning: \n",
            "A value is trying to be set on a copy of a slice from a DataFrame\n",
            "\n",
            "See the caveats in the documentation: https://pandas.pydata.org/pandas-docs/stable/user_guide/indexing.html#returning-a-view-versus-a-copy\n",
            "  df.average_review_rating[i] = strToFloat(df.average_review_rating[i].split()[0])\n",
            "<ipython-input-15-457cba9d19ce>:3: SettingWithCopyWarning: \n",
            "A value is trying to be set on a copy of a slice from a DataFrame\n",
            "\n",
            "See the caveats in the documentation: https://pandas.pydata.org/pandas-docs/stable/user_guide/indexing.html#returning-a-view-versus-a-copy\n",
            "  df.average_review_rating[i] = strToFloat(df.average_review_rating[i].split()[0])\n",
            "<ipython-input-15-457cba9d19ce>:3: SettingWithCopyWarning: \n",
            "A value is trying to be set on a copy of a slice from a DataFrame\n",
            "\n",
            "See the caveats in the documentation: https://pandas.pydata.org/pandas-docs/stable/user_guide/indexing.html#returning-a-view-versus-a-copy\n",
            "  df.average_review_rating[i] = strToFloat(df.average_review_rating[i].split()[0])\n",
            "<ipython-input-15-457cba9d19ce>:3: SettingWithCopyWarning: \n",
            "A value is trying to be set on a copy of a slice from a DataFrame\n",
            "\n",
            "See the caveats in the documentation: https://pandas.pydata.org/pandas-docs/stable/user_guide/indexing.html#returning-a-view-versus-a-copy\n",
            "  df.average_review_rating[i] = strToFloat(df.average_review_rating[i].split()[0])\n",
            "<ipython-input-15-457cba9d19ce>:3: SettingWithCopyWarning: \n",
            "A value is trying to be set on a copy of a slice from a DataFrame\n",
            "\n",
            "See the caveats in the documentation: https://pandas.pydata.org/pandas-docs/stable/user_guide/indexing.html#returning-a-view-versus-a-copy\n",
            "  df.average_review_rating[i] = strToFloat(df.average_review_rating[i].split()[0])\n",
            "<ipython-input-15-457cba9d19ce>:3: SettingWithCopyWarning: \n",
            "A value is trying to be set on a copy of a slice from a DataFrame\n",
            "\n",
            "See the caveats in the documentation: https://pandas.pydata.org/pandas-docs/stable/user_guide/indexing.html#returning-a-view-versus-a-copy\n",
            "  df.average_review_rating[i] = strToFloat(df.average_review_rating[i].split()[0])\n"
          ]
        }
      ]
    },
    {
      "cell_type": "markdown",
      "source": [
        "Текстовое представление произвотеля можно убрать."
      ],
      "metadata": {
        "id": "rCq-gitny4M7"
      }
    },
    {
      "cell_type": "code",
      "source": [
        "df = df.drop(columns = ['manufacturer'])"
      ],
      "metadata": {
        "id": "EL6LtYCOg3Qi"
      },
      "execution_count": 16,
      "outputs": []
    },
    {
      "cell_type": "markdown",
      "source": [
        "Теперь закодируем значения данных о категории товара. Разделим их на 5 подкатегории."
      ],
      "metadata": {
        "id": "0yM2Veldy_8j"
      }
    },
    {
      "cell_type": "code",
      "source": [
        "newDf = df.amazon_category_and_sub_category.str.split(' > ', expand=True) #Создаем новый df с кол-вом столбцов, равным нужному кол-ву подкатегорий\n",
        "newDf.columns=['sub_category_0','sub_category_1','sub_category_2', 'sub_category_3', 'sub_category_4'] #Называем их\n",
        "\n",
        "finalDf = pd.concat([df,newDf], axis = 1) #Соединяем в конечный df\n",
        "finalDf = finalDf.drop(columns = ['amazon_category_and_sub_category'], axis = 1) #Убираем старый столбец\n",
        "\n",
        "df = finalDf"
      ],
      "metadata": {
        "id": "rPEHHd_9ist5"
      },
      "execution_count": 17,
      "outputs": []
    },
    {
      "cell_type": "markdown",
      "source": [
        "Представи подкатегории в виде факториала."
      ],
      "metadata": {
        "id": "KK71dp1n4DV0"
      }
    },
    {
      "cell_type": "code",
      "source": [
        "#факторизируем значение каждой ячейки столбцов\n",
        "df.sub_category_0 = pd.factorize(df.sub_category_0)[0] + 1\n",
        "df.sub_category_1 = pd.factorize(df.sub_category_1)[0] + 1\n",
        "df.sub_category_2 = pd.factorize(df.sub_category_2)[0] + 1\n",
        "df.sub_category_3 = pd.factorize(df.sub_category_3)[0] + 1\n",
        "df.sub_category_4 = pd.factorize(df.sub_category_4)[0] + 1"
      ],
      "metadata": {
        "id": "XFgmrl6H37YF"
      },
      "execution_count": 18,
      "outputs": []
    },
    {
      "cell_type": "markdown",
      "source": [
        "Посмотрим на конечный результат."
      ],
      "metadata": {
        "id": "vQ2tqcNM18Ut"
      }
    },
    {
      "cell_type": "code",
      "source": [
        "df.sample()"
      ],
      "metadata": {
        "colab": {
          "base_uri": "https://localhost:8080/",
          "height": 81
        },
        "id": "SYb4MYbQgDD5",
        "outputId": "333ce56f-9cf5-4e71-b74d-758b992d9476"
      },
      "execution_count": 19,
      "outputs": [
        {
          "output_type": "execute_result",
          "data": {
            "text/plain": [
              "     price number_of_reviews  number_of_answered_questions  \\\n",
              "5257  1.95                21                           2.0   \n",
              "\n",
              "     average_review_rating  sub_category_0  sub_category_1  sub_category_2  \\\n",
              "5257                   4.3               7              90               0   \n",
              "\n",
              "      sub_category_3  sub_category_4  \n",
              "5257               0               0  "
            ],
            "text/html": [
              "\n",
              "  <div id=\"df-7b165b7a-9a47-4c1e-ae14-8ff28f394b71\">\n",
              "    <div class=\"colab-df-container\">\n",
              "      <div>\n",
              "<style scoped>\n",
              "    .dataframe tbody tr th:only-of-type {\n",
              "        vertical-align: middle;\n",
              "    }\n",
              "\n",
              "    .dataframe tbody tr th {\n",
              "        vertical-align: top;\n",
              "    }\n",
              "\n",
              "    .dataframe thead th {\n",
              "        text-align: right;\n",
              "    }\n",
              "</style>\n",
              "<table border=\"1\" class=\"dataframe\">\n",
              "  <thead>\n",
              "    <tr style=\"text-align: right;\">\n",
              "      <th></th>\n",
              "      <th>price</th>\n",
              "      <th>number_of_reviews</th>\n",
              "      <th>number_of_answered_questions</th>\n",
              "      <th>average_review_rating</th>\n",
              "      <th>sub_category_0</th>\n",
              "      <th>sub_category_1</th>\n",
              "      <th>sub_category_2</th>\n",
              "      <th>sub_category_3</th>\n",
              "      <th>sub_category_4</th>\n",
              "    </tr>\n",
              "  </thead>\n",
              "  <tbody>\n",
              "    <tr>\n",
              "      <th>5257</th>\n",
              "      <td>1.95</td>\n",
              "      <td>21</td>\n",
              "      <td>2.0</td>\n",
              "      <td>4.3</td>\n",
              "      <td>7</td>\n",
              "      <td>90</td>\n",
              "      <td>0</td>\n",
              "      <td>0</td>\n",
              "      <td>0</td>\n",
              "    </tr>\n",
              "  </tbody>\n",
              "</table>\n",
              "</div>\n",
              "      <button class=\"colab-df-convert\" onclick=\"convertToInteractive('df-7b165b7a-9a47-4c1e-ae14-8ff28f394b71')\"\n",
              "              title=\"Convert this dataframe to an interactive table.\"\n",
              "              style=\"display:none;\">\n",
              "        \n",
              "  <svg xmlns=\"http://www.w3.org/2000/svg\" height=\"24px\"viewBox=\"0 0 24 24\"\n",
              "       width=\"24px\">\n",
              "    <path d=\"M0 0h24v24H0V0z\" fill=\"none\"/>\n",
              "    <path d=\"M18.56 5.44l.94 2.06.94-2.06 2.06-.94-2.06-.94-.94-2.06-.94 2.06-2.06.94zm-11 1L8.5 8.5l.94-2.06 2.06-.94-2.06-.94L8.5 2.5l-.94 2.06-2.06.94zm10 10l.94 2.06.94-2.06 2.06-.94-2.06-.94-.94-2.06-.94 2.06-2.06.94z\"/><path d=\"M17.41 7.96l-1.37-1.37c-.4-.4-.92-.59-1.43-.59-.52 0-1.04.2-1.43.59L10.3 9.45l-7.72 7.72c-.78.78-.78 2.05 0 2.83L4 21.41c.39.39.9.59 1.41.59.51 0 1.02-.2 1.41-.59l7.78-7.78 2.81-2.81c.8-.78.8-2.07 0-2.86zM5.41 20L4 18.59l7.72-7.72 1.47 1.35L5.41 20z\"/>\n",
              "  </svg>\n",
              "      </button>\n",
              "      \n",
              "  <style>\n",
              "    .colab-df-container {\n",
              "      display:flex;\n",
              "      flex-wrap:wrap;\n",
              "      gap: 12px;\n",
              "    }\n",
              "\n",
              "    .colab-df-convert {\n",
              "      background-color: #E8F0FE;\n",
              "      border: none;\n",
              "      border-radius: 50%;\n",
              "      cursor: pointer;\n",
              "      display: none;\n",
              "      fill: #1967D2;\n",
              "      height: 32px;\n",
              "      padding: 0 0 0 0;\n",
              "      width: 32px;\n",
              "    }\n",
              "\n",
              "    .colab-df-convert:hover {\n",
              "      background-color: #E2EBFA;\n",
              "      box-shadow: 0px 1px 2px rgba(60, 64, 67, 0.3), 0px 1px 3px 1px rgba(60, 64, 67, 0.15);\n",
              "      fill: #174EA6;\n",
              "    }\n",
              "\n",
              "    [theme=dark] .colab-df-convert {\n",
              "      background-color: #3B4455;\n",
              "      fill: #D2E3FC;\n",
              "    }\n",
              "\n",
              "    [theme=dark] .colab-df-convert:hover {\n",
              "      background-color: #434B5C;\n",
              "      box-shadow: 0px 1px 3px 1px rgba(0, 0, 0, 0.15);\n",
              "      filter: drop-shadow(0px 1px 2px rgba(0, 0, 0, 0.3));\n",
              "      fill: #FFFFFF;\n",
              "    }\n",
              "  </style>\n",
              "\n",
              "      <script>\n",
              "        const buttonEl =\n",
              "          document.querySelector('#df-7b165b7a-9a47-4c1e-ae14-8ff28f394b71 button.colab-df-convert');\n",
              "        buttonEl.style.display =\n",
              "          google.colab.kernel.accessAllowed ? 'block' : 'none';\n",
              "\n",
              "        async function convertToInteractive(key) {\n",
              "          const element = document.querySelector('#df-7b165b7a-9a47-4c1e-ae14-8ff28f394b71');\n",
              "          const dataTable =\n",
              "            await google.colab.kernel.invokeFunction('convertToInteractive',\n",
              "                                                     [key], {});\n",
              "          if (!dataTable) return;\n",
              "\n",
              "          const docLinkHtml = 'Like what you see? Visit the ' +\n",
              "            '<a target=\"_blank\" href=https://colab.research.google.com/notebooks/data_table.ipynb>data table notebook</a>'\n",
              "            + ' to learn more about interactive tables.';\n",
              "          element.innerHTML = '';\n",
              "          dataTable['output_type'] = 'display_data';\n",
              "          await google.colab.output.renderOutput(dataTable, element);\n",
              "          const docLink = document.createElement('div');\n",
              "          docLink.innerHTML = docLinkHtml;\n",
              "          element.appendChild(docLink);\n",
              "        }\n",
              "      </script>\n",
              "    </div>\n",
              "  </div>\n",
              "  "
            ]
          },
          "metadata": {},
          "execution_count": 19
        }
      ]
    },
    {
      "cell_type": "markdown",
      "source": [
        "Осталось только заполнить последние пропуски."
      ],
      "metadata": {
        "id": "Q4BsXYKj2AO7"
      }
    },
    {
      "cell_type": "code",
      "source": [
        "df = df.fillna(0)"
      ],
      "metadata": {
        "id": "03bnbDHUppIb"
      },
      "execution_count": 20,
      "outputs": []
    },
    {
      "cell_type": "code",
      "source": [
        "for i in range(0, len(df.price)):\n",
        "  if (isinstance(df.number_of_reviews[i], str)):\n",
        "    df.number_of_reviews[i] = strToFloat(df.number_of_reviews[i])\n",
        "  if (isinstance(df.number_of_answered_questions[i], str)):\n",
        "    df.number_of_answered_questions[i] = strToFloat(df.number_of_answered_questions[i])"
      ],
      "metadata": {
        "id": "cuAFIvHAuop8",
        "colab": {
          "base_uri": "https://localhost:8080/"
        },
        "outputId": "b541d24e-de0c-4984-9eac-1dacbc28d1e2"
      },
      "execution_count": 21,
      "outputs": [
        {
          "output_type": "stream",
          "name": "stderr",
          "text": [
            "<ipython-input-21-daac106cdb8e>:3: SettingWithCopyWarning: \n",
            "A value is trying to be set on a copy of a slice from a DataFrame\n",
            "\n",
            "See the caveats in the documentation: https://pandas.pydata.org/pandas-docs/stable/user_guide/indexing.html#returning-a-view-versus-a-copy\n",
            "  df.number_of_reviews[i] = strToFloat(df.number_of_reviews[i])\n",
            "<ipython-input-21-daac106cdb8e>:3: SettingWithCopyWarning: \n",
            "A value is trying to be set on a copy of a slice from a DataFrame\n",
            "\n",
            "See the caveats in the documentation: https://pandas.pydata.org/pandas-docs/stable/user_guide/indexing.html#returning-a-view-versus-a-copy\n",
            "  df.number_of_reviews[i] = strToFloat(df.number_of_reviews[i])\n"
          ]
        }
      ]
    },
    {
      "cell_type": "markdown",
      "metadata": {
        "id": "JTRoUwANEcn9"
      },
      "source": [
        "# Обучение модели (3 балла)"
      ]
    },
    {
      "cell_type": "markdown",
      "source": [
        "Описываем модель."
      ],
      "metadata": {
        "id": "WGIqdeKa2Kh8"
      }
    },
    {
      "cell_type": "code",
      "source": [
        "from sklearn.model_selection import train_test_split\n",
        "Y = df['price']\n",
        "X = df.drop(columns = ['price'])\n",
        "trainX, testX, trainY, testY = train_test_split(X, Y, train_size=0.8, random_state=42)"
      ],
      "metadata": {
        "id": "amDJErCYnwyy"
      },
      "execution_count": 22,
      "outputs": []
    },
    {
      "cell_type": "markdown",
      "metadata": {
        "id": "AyVaKKT7FFo5"
      },
      "source": [
        "## Бейзлайн\n",
        "\n",
        "Обучите базовую модель. Для этого используйте `sklearn.dummy.DummyRegressor`. Какое качество она показывает на тесте? Посчитайте MSE, RMSE."
      ]
    },
    {
      "cell_type": "markdown",
      "source": [
        "Обучим DummyRegressor`а и ..."
      ],
      "metadata": {
        "id": "hAwAE-zg4P-b"
      }
    },
    {
      "cell_type": "code",
      "source": [
        "from sklearn.dummy import DummyRegressor\n",
        "\n",
        "dummyRegres = DummyRegressor(strategy=\"mean\")\n",
        "dummyRegres.fit(trainX, trainY)\n",
        "predictY = dummyRegres.predict(testX)"
      ],
      "metadata": {
        "id": "9EDmvWZIoaaK"
      },
      "execution_count": 23,
      "outputs": []
    },
    {
      "cell_type": "markdown",
      "source": [
        "... получим нужные значения."
      ],
      "metadata": {
        "id": "jUQw5tuG4bzc"
      }
    },
    {
      "cell_type": "code",
      "source": [
        "from sklearn.metrics import mean_squared_error as mse\n",
        "from sklearn.metrics import r2_score\n",
        "\n",
        "MSE = mse(testY, predictY)\n",
        "RMSE = np.sqrt(MSE)\n",
        "R2 = r2_score(testY, predictY)\n",
        "\n",
        "print(MSE)\n",
        "print(RMSE)\n",
        "print(R2)"
      ],
      "metadata": {
        "colab": {
          "base_uri": "https://localhost:8080/"
        },
        "id": "eDG-BWB74NON",
        "outputId": "aecb127d-9673-47f2-d1fd-81591f69b334"
      },
      "execution_count": 24,
      "outputs": [
        {
          "output_type": "stream",
          "name": "stdout",
          "text": [
            "1194.64771021695\n",
            "34.56367616757439\n",
            "-0.004612250910162263\n"
          ]
        }
      ]
    },
    {
      "cell_type": "markdown",
      "metadata": {
        "id": "rVW-MtPgF_vE"
      },
      "source": [
        "## Дерево решений\n",
        "\n",
        "Обучите регрессионное дерево решений, проверьте качество этой модели на тестовой выборке. Улучшилось ли качество по сравнению с базовой моделью? Оцените r2_score обученной модели."
      ]
    },
    {
      "cell_type": "markdown",
      "source": [
        "Обучение регрессионного дерева решений и ..."
      ],
      "metadata": {
        "id": "vNwGrq3q8Xtu"
      }
    },
    {
      "cell_type": "code",
      "source": [
        "from sklearn.tree import DecisionTreeRegressor\n",
        "\n",
        "dTTree = DecisionTreeRegressor()\n",
        "dTTree = dTTree.fit(trainX, trainY)\n",
        "predictY = dTTree.predict(testX)"
      ],
      "metadata": {
        "id": "j3dsLu8gqBca"
      },
      "execution_count": 25,
      "outputs": []
    },
    {
      "cell_type": "markdown",
      "source": [
        "... получение нужных значений"
      ],
      "metadata": {
        "id": "e1QfwqLN8dle"
      }
    },
    {
      "cell_type": "code",
      "source": [
        "r2_score(testY, predictY)"
      ],
      "metadata": {
        "colab": {
          "base_uri": "https://localhost:8080/"
        },
        "id": "OQIR7TWB4_4U",
        "outputId": "7f245be6-1d63-44e6-878f-2833bee9c9d9"
      },
      "execution_count": 26,
      "outputs": [
        {
          "output_type": "execute_result",
          "data": {
            "text/plain": [
              "-0.19245690539242521"
            ]
          },
          "metadata": {},
          "execution_count": 26
        }
      ]
    },
    {
      "cell_type": "markdown",
      "source": [
        "Качество ,по сравнению с DummyRegressor, сильно хуже."
      ],
      "metadata": {
        "id": "0lRb25aI8ijl"
      }
    },
    {
      "cell_type": "markdown",
      "metadata": {
        "id": "viVY_kUMG7Jv"
      },
      "source": [
        "## Линейная регрессия\n",
        "\n",
        "Попробуйте обучить линейную регрессию с параметрами по умолчанию. Оцените r2_score на тестовой выборке. Сравните качество с деревом решений. "
      ]
    },
    {
      "cell_type": "markdown",
      "source": [
        "Обучние линейной регрессии и ..."
      ],
      "metadata": {
        "id": "tJ6tAP8c8vPH"
      }
    },
    {
      "cell_type": "code",
      "source": [
        "from sklearn.linear_model import LinearRegression\n",
        "\n",
        "LinearRegress = LinearRegression()\n",
        "LinearRegress = LinearRegress.fit(trainX, trainY)\n",
        "\n",
        "predictY = LinearRegress.predict(testX)"
      ],
      "metadata": {
        "id": "IAJdVdGaq8Xi"
      },
      "execution_count": 27,
      "outputs": []
    },
    {
      "cell_type": "markdown",
      "source": [
        "... получение нужных значений."
      ],
      "metadata": {
        "id": "DtxPq7sN9BM_"
      }
    },
    {
      "cell_type": "code",
      "source": [
        "r2_score(testY, predictY)"
      ],
      "metadata": {
        "colab": {
          "base_uri": "https://localhost:8080/"
        },
        "id": "wJe71hYO85vM",
        "outputId": "d8e7f263-f733-4d84-d082-3473c3aa52a2"
      },
      "execution_count": 28,
      "outputs": [
        {
          "output_type": "execute_result",
          "data": {
            "text/plain": [
              "-0.014236787151210128"
            ]
          },
          "metadata": {},
          "execution_count": 28
        }
      ]
    },
    {
      "cell_type": "markdown",
      "source": [
        "Значение показывает, что линейная регрессия работает лучше, чем дерево решений, но хуже, чем DummyRegressor."
      ],
      "metadata": {
        "id": "bvN6MVEJ9Mhl"
      }
    },
    {
      "cell_type": "markdown",
      "metadata": {
        "id": "3J71riX2Guj3"
      },
      "source": [
        "# Гиперпараметры (2 балла)\n",
        "\n",
        "Переберите несколько гиперпараметров (не более двух-трёх). Обратите внимание, как эти параметры влияют на ошибку модели на тестовой выборке. Постройте для глубины дерева график переобучения (fitting curve) аналогичный тому, что мы строили на занятии. Найдите глубину дерева, начиная с которой модель начинает переобучаться."
      ]
    },
    {
      "cell_type": "markdown",
      "source": [
        "Опишем функцию нахождения предсказания Y для каждого параметра и изобразим на основе этого график."
      ],
      "metadata": {
        "id": "4ZYjML9yFa4W"
      }
    },
    {
      "cell_type": "code",
      "source": [
        "import seaborn as sns\n",
        "\n",
        "def PFC (parameter: str, values: list, trX = trainX, tsX = testX, trY = trainY, tsY = testY):\n",
        "\n",
        "    trainCurve = []\n",
        "    testCurve = []\n",
        "\n",
        "    for value in values:\n",
        "\n",
        "        treeModel = DecisionTreeRegressor(**{parameter: value})\n",
        "        treeModel.fit(trX, trY)\n",
        "\n",
        "        predictTrainY = treeModel.predict(trX)\n",
        "        predictTestY =  treeModel.predict(tsX)\n",
        "        \n",
        "        trainCurve.append(r2_score(trY, predictTrainY))\n",
        "        testCurve.append(r2_score(tsY, predictTestY))\n",
        "\n",
        "    sns.lineplot(x=values, y=trainCurve, label='train')\n",
        "    sns.lineplot(x=values, y=testCurve, label='test')"
      ],
      "metadata": {
        "id": "3Iw2_GSH9riU"
      },
      "execution_count": 29,
      "outputs": []
    },
    {
      "cell_type": "markdown",
      "source": [
        "График для максимальной глубины дерева - выбираем тут 5."
      ],
      "metadata": {
        "id": "8D7o4fiCFjxq"
      }
    },
    {
      "cell_type": "code",
      "source": [
        "PFC('max_depth', np.arange(1, 10))"
      ],
      "metadata": {
        "colab": {
          "base_uri": "https://localhost:8080/",
          "height": 430
        },
        "id": "gvAQrRCL9tpL",
        "outputId": "ef1c880b-40d2-4a32-e455-7d493a59bea2"
      },
      "execution_count": 30,
      "outputs": [
        {
          "output_type": "display_data",
          "data": {
            "text/plain": [
              "<Figure size 640x480 with 1 Axes>"
            ],
            "image/png": "[encoded data removed]"
          },
          "metadata": {}
        }
      ]
    },
    {
      "cell_type": "markdown",
      "source": [
        "Тут берем 3."
      ],
      "metadata": {
        "id": "74yzn6JuFpil"
      }
    },
    {
      "cell_type": "code",
      "source": [
        "PFC('min_samples_split', np.arange(2, 10))"
      ],
      "metadata": {
        "colab": {
          "base_uri": "https://localhost:8080/",
          "height": 430
        },
        "id": "7RAavStR_6gf",
        "outputId": "18175bcc-945d-4355-aebd-9d08dfe791f9"
      },
      "execution_count": 31,
      "outputs": [
        {
          "output_type": "display_data",
          "data": {
            "text/plain": [
              "<Figure size 640x480 with 1 Axes>"
            ],
            "image/png": "[encoded data removed]"
          },
          "metadata": {}
        }
      ]
    },
    {
      "cell_type": "markdown",
      "source": [
        "Тут же берем 2."
      ],
      "metadata": {
        "id": "72AoFxU2FuEN"
      }
    },
    {
      "cell_type": "code",
      "source": [
        "PFC('min_samples_leaf', np.arange(1, 20, 1))"
      ],
      "metadata": {
        "colab": {
          "base_uri": "https://localhost:8080/",
          "height": 431
        },
        "id": "ZrH78nAUAFj2",
        "outputId": "1e85fc76-c11a-4aa4-b76e-19e750cd9b0f"
      },
      "execution_count": 32,
      "outputs": [
        {
          "output_type": "display_data",
          "data": {
            "text/plain": [
              "<Figure size 640x480 with 1 Axes>"
            ],
            "image/png": "[encoded data removed]"
          },
          "metadata": {}
        }
      ]
    },
    {
      "cell_type": "markdown",
      "source": [
        "Построим дерево на основе найденных параметров."
      ],
      "metadata": {
        "id": "xOlPfxnsF0FV"
      }
    },
    {
      "cell_type": "code",
      "source": [
        "parameterTree = DecisionTreeRegressor(max_depth=5, min_samples_split=3, min_samples_leaf=2)\n",
        "parameterTree.fit(trainX, trainY)\n",
        "predictY = parameterTree.predict(testX)"
      ],
      "metadata": {
        "id": "ZSHEyi4DAhGu"
      },
      "execution_count": 33,
      "outputs": []
    },
    {
      "cell_type": "code",
      "source": [
        "MSE = mse(testY, predictY)\n",
        "RMSE = np.sqrt(MSE)\n",
        "R2 = r2_score(testY, predictY)\n",
        "\n",
        "print(MSE)\n",
        "print(RMSE)\n",
        "print(R2)"
      ],
      "metadata": {
        "colab": {
          "base_uri": "https://localhost:8080/"
        },
        "id": "Fu921z0JCVUn",
        "outputId": "69ce4702-2463-4fdd-fb66-307bb6b7fbc0"
      },
      "execution_count": 34,
      "outputs": [
        {
          "output_type": "stream",
          "name": "stdout",
          "text": [
            "1180.9456618519575\n",
            "34.36488995838569\n",
            "0.006910179955699647\n"
          ]
        }
      ]
    },
    {
      "cell_type": "markdown",
      "source": [
        "Результаты на этот раз намного лучше! Полученные значения очень близки к значениям DummyRegressor!"
      ],
      "metadata": {
        "id": "E1eTKInwF5sm"
      }
    },
    {
      "cell_type": "markdown",
      "metadata": {
        "id": "rJlf6gJ9RBhf"
      },
      "source": [
        "# Простое ансамблирование (1 балл)\n",
        "\n",
        "В этой секции мы реализуем простой ансамбль деревьев."
      ]
    },
    {
      "cell_type": "code",
      "execution_count": 35,
      "metadata": {
        "id": "Ht7wq9TqUfvZ"
      },
      "outputs": [],
      "source": [
        "class EnsembleTreeRegressor:\n",
        "    def __init__(self, num_trees=5, samples_frac=0.8, **model_kwargs):\n",
        "        self.num_trees= num_trees\n",
        "        self._samples_frac = 0.8\n",
        "        self._trees = [DecisionTreeRegressor(**model_kwargs) for _ in range(num_trees)]\n",
        "    def fit(self, x, y: pd.Series):\n",
        "        x = pd.DataFrame(x)\n",
        "        y = y.reset_index(drop=True)\n",
        "        for tree in self._trees:\n",
        "            tree_x = x.sample(frac=self._samples_frac, random_state=42)\n",
        "            tree_y = y[tree_x.index]\n",
        "            tree.fit(tree_x, tree_y)\n",
        "        return self\n",
        "\n",
        "    def predict(self, x: pd.DataFrame):\n",
        "        x = pd.DataFrame(x)\n",
        "        res = []\n",
        "        for i in range(self.num_trees):\n",
        "          res.append(self._trees[i].predict(x))\n",
        "        return sum(res) / len(res)"
      ]
    },
    {
      "cell_type": "markdown",
      "metadata": {
        "id": "FCxogZPuVZCF"
      },
      "source": [
        "Проверьте, работает ли этот ансамбль лучше обычного дерева с параметрами по умолчанию?\n",
        "\n",
        "Дополнительно переберите максимальную глубину дерева. Проверьте, насколько отличается момент начала переобучения у одиночного дерева и у ансамбля. Зависит ли этот момент от числа деревьев (`num_trees`)? От числа примеров для каждого дерева (`samples_frac`)? Постройте график fitting curve."
      ]
    },
    {
      "cell_type": "markdown",
      "source": [
        "Обучим ансамбль!"
      ],
      "metadata": {
        "id": "k5sk8vMxIuEX"
      }
    },
    {
      "cell_type": "code",
      "source": [
        "ens = EnsembleTreeRegressor()\n",
        "ens.fit(trainX, trainY)\n",
        "predictY = ens.predict(testX)"
      ],
      "metadata": {
        "id": "eY1jW4R0DJTG"
      },
      "execution_count": null,
      "outputs": []
    },
    {
      "cell_type": "markdown",
      "source": [
        "И получим значения для сравнения с прошлыми результатами."
      ],
      "metadata": {
        "id": "P8GJ93GgIxGO"
      }
    },
    {
      "cell_type": "code",
      "source": [
        "MSE = mse(testY, predictY)\n",
        "RMSE = np.sqrt(MSE)\n",
        "R2 = r2_score(testY, predictY)\n",
        "\n",
        "print(MSE)\n",
        "print(RMSE)\n",
        "print(R2)"
      ],
      "metadata": {
        "id": "zDxPduJ4G5qP"
      },
      "execution_count": null,
      "outputs": []
    }
  ],
  "metadata": {
    "colab": {
      "provenance": []
    },
    "gpuClass": "standard",
    "kernelspec": {
      "display_name": "base",
      "language": "python",
      "name": "python3"
    },
    "language_info": {
      "codemirror_mode": {
        "name": "ipython",
        "version": 3
      },
      "file_extension": ".py",
      "mimetype": "text/x-python",
      "name": "python",
      "nbconvert_exporter": "python",
      "pygments_lexer": "ipython3",
      "version": "3.8.15"
    },
    "vscode": {
      "interpreter": {
        "hash": "e4cce46d6be9934fbd27f9ca0432556941ea5bdf741d4f4d64c6cd7f8dfa8fba"
      }
    }
  },
  "nbformat": 4,
  "nbformat_minor": 0
}